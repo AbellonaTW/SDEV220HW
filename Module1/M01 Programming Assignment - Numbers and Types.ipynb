{
 "cells": [
  {
   "cell_type": "markdown",
   "metadata": {},
   "source": [
    "3.1 How many seconds are in an hour? Use the interactive interpreter as a calculator and multiply the number of seconds in a minute (60) by the number of minutes in an hour (also 60)."
   ]
  },
  {
   "cell_type": "code",
   "execution_count": null,
   "metadata": {},
   "outputs": [],
   "source": [
    "# in order to caclulate seconds in an hour, first we need to convert an hour to minutes, and then to seconds\n",
    "# 1 hour = 60 minutes\n",
    "# 1 minute = 60 seconds\n",
    "secondshour = 1*60*60\n",
    "print(secondshour)"
   ]
  },
  {
   "cell_type": "markdown",
   "metadata": {},
   "source": [
    "3.2 Assign the result from the previous task (seconds in an hour) to a variable called seconds_per_hour."
   ]
  },
  {
   "cell_type": "code",
   "execution_count": null,
   "metadata": {},
   "outputs": [],
   "source": [
    "# we are assignig the result to the formula so nothing much to add\n",
    "secondshour = 1*60*60\n",
    "seconds_per_hour = 3600\n",
    "print(seconds_per_hour)"
   ]
  },
  {
   "cell_type": "markdown",
   "metadata": {},
   "source": [
    "3.3 How many seconds are in a day? Use your seconds_per_hour variable."
   ]
  },
  {
   "cell_type": "code",
   "execution_count": null,
   "metadata": {},
   "outputs": [],
   "source": [
    "#to calcuate seconds per day, we need to simply add the conversion value to the formula\n",
    "hoursday = 24\n",
    "secondshour = 1*60*60\n",
    "seconds_per_hour = 3600\n",
    "secondsday = 24* seconds_per_hour\n",
    "print(secondsday)"
   ]
  },
  {
   "cell_type": "markdown",
   "metadata": {},
   "source": [
    "3.4 Calculate seconds per day again, but this time save the result in a variable called seconds_per_day."
   ]
  },
  {
   "cell_type": "code",
   "execution_count": null,
   "metadata": {},
   "outputs": [],
   "source": [
    "#once again as with 3.2, just changing the terms to match the format\n",
    "hoursday = 24\n",
    "secondshour = 1*60*60\n",
    "seconds_per_hour = 3600\n",
    "secondsday = 24* seconds_per_hour\n",
    "seconds_per_day = 86400\n",
    "print(seconds_per_day)"
   ]
  },
  {
   "cell_type": "markdown",
   "metadata": {},
   "source": [
    "3.5 Divide seconds_per_day by seconds_per_hour. Use floating-point (/) division."
   ]
  },
  {
   "cell_type": "code",
   "execution_count": null,
   "metadata": {},
   "outputs": [],
   "source": [
    "#this is simple, just add the equation to whats already set\n",
    "hoursday = 24\n",
    "secondshour = 1*60*60\n",
    "seconds_per_hour = 3600\n",
    "secondsday = 24* seconds_per_hour\n",
    "seconds_per_day = 86400\n",
    "division = seconds_per_day/seconds_per_hour\n",
    "print(division)"
   ]
  },
  {
   "cell_type": "markdown",
   "metadata": {},
   "source": [
    "3.6 Divide seconds_per_day by seconds_per_hour, using integer (//) division. Did this number agree with the floating-point value from the previous question, aside from the final .0?"
   ]
  },
  {
   "cell_type": "code",
   "execution_count": null,
   "metadata": {},
   "outputs": [],
   "source": [
    "#we need to change the \"division\" equation to add another \"/\" to it. and then see if it agrees with the floating point value\n",
    "hoursday = 24\n",
    "secondshour = 1*60*60\n",
    "seconds_per_hour = 3600\n",
    "secondsday = 24* seconds_per_hour\n",
    "seconds_per_day = 86400\n",
    "division = seconds_per_day//seconds_per_hour\n",
    "print(division)\n",
    "# to answer the question, yes, the number agree with the floating-point value from the previous question, of course exclusing the final .0. \n",
    "# The '/' returns the floating point variable and the '//' returns the integer value with .0 at the end."
   ]
  }
 ],
 "metadata": {
  "language_info": {
   "name": "python"
  },
  "orig_nbformat": 4
 },
 "nbformat": 4,
 "nbformat_minor": 2
}
