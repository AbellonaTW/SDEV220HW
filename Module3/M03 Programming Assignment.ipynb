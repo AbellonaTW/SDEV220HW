{
 "cells": [
  {
   "cell_type": "markdown",
   "metadata": {},
   "source": [
    "7.4 Make a list called things with these three strings as elements: \"mozzarella\", \"cinderella\", \"salmonella\"."
   ]
  },
  {
   "cell_type": "code",
   "execution_count": null,
   "metadata": {},
   "outputs": [],
   "source": [
    "things=[\"mozzarella\",\"cinderella\",\"salmonella\"]\n",
    "print(\"List of things\")\n",
    "print(things)"
   ]
  },
  {
   "cell_type": "markdown",
   "metadata": {},
   "source": [
    "7.5 Capitalize the element in things that refers to a person and then print the list. Did it change the element in the list?"
   ]
  },
  {
   "cell_type": "code",
   "execution_count": null,
   "metadata": {},
   "outputs": [],
   "source": [
    "#copy the list from before to use here\n",
    "things=[\"mozzarella\",\"cinderella\",\"salmonella\"]\n",
    "print(\"List of things\")\n",
    "print(things)\n",
    "things[1]=things[1].capitalize()\n",
    "print(\"New list after capitalization attempt on person's name(s)\")\n",
    "print(things)\n"
   ]
  },
  {
   "cell_type": "markdown",
   "metadata": {},
   "source": [
    "7.6 Make the cheesy element of things all uppercase and then print the list."
   ]
  },
  {
   "cell_type": "code",
   "execution_count": null,
   "metadata": {},
   "outputs": [],
   "source": [
    "things=[\"mozzarella\",\"cinderella\",\"salmonella\"]\n",
    "print(\"List of things\")\n",
    "print(things)\n",
    "things[1]=things[1].capitalize()\n",
    "print(\"New list after capitalization attempt on person's name(s)\")\n",
    "print(things)\n",
    "#adding the command to make everything uppercase\n",
    "things[0]=things[0].upper()\n",
    "print(\"New list with big letters in cheese name\")\n",
    "print(things)"
   ]
  },
  {
   "cell_type": "markdown",
   "metadata": {},
   "source": [
    "7.7 Delete the disease element from things, collect your Nobel Prize, and print the list."
   ]
  },
  {
   "cell_type": "code",
   "execution_count": null,
   "metadata": {},
   "outputs": [],
   "source": [
    "things=[\"mozzarella\",\"cinderella\",\"salmonella\"]\n",
    "print(\"List of things\")\n",
    "print(things)\n",
    "things[1]=things[1].capitalize()\n",
    "print(\"New list after capitalization attempt on person's name(s)\")\n",
    "print(things)\n",
    "things[0]=things[0].upper()\n",
    "print(\"New list with big cheese name\")\n",
    "print(things)\n",
    "#somehow i am geting errors here in the following command\n",
    "things.remove(things[2])\n",
    "print(\"No diseases in this list\")\n",
    "print(things)\n",
    "things.append(\"Noble Prize\")\n",
    "print(\"The disease is gone but there is now something new to the list\")\n",
    "print(things)\n"
   ]
  },
  {
   "cell_type": "markdown",
   "metadata": {},
   "source": [
    "9.1 Define a function called good() that returns the following list: ['Harry', 'Ron', 'Hermione']."
   ]
  },
  {
   "cell_type": "code",
   "execution_count": null,
   "metadata": {},
   "outputs": [],
   "source": [
    "def good():\n",
    "    list_1 = ['Harry','Ron','Hermione']\n",
    "    return list_1"
   ]
  },
  {
   "cell_type": "markdown",
   "metadata": {},
   "source": [
    "9.2 Define a generator function called get_odds() that returns the odd numbers from range(10). Use a for loop to find and print the third value returned."
   ]
  },
  {
   "cell_type": "code",
   "execution_count": null,
   "metadata": {},
   "outputs": [],
   "source": [
    "def get_odds():\n",
    "    for number in range(10):\n",
    "        if number/2 != 0\n",
    "            yield number\n",
    "count = 0\n",
    "for number in get_odds():\n",
    "    if count == 2\n",
    "        print(number)\n",
    "        break\n",
    "    count += 1"
   ]
  }
 ],
 "metadata": {
  "language_info": {
   "name": "python"
  },
  "orig_nbformat": 4
 },
 "nbformat": 4,
 "nbformat_minor": 2
}
